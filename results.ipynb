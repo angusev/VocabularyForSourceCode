{
 "cells": [
  {
   "cell_type": "code",
   "execution_count": null,
   "metadata": {},
   "outputs": [],
   "source": [
    "import pandas as pd\n",
    "\n",
    "resultd = pd.DataFrame([[1e-4, 1e-4, 1e-3, 24, 0.47440, 0.35912, 0.40879],\n",
    "                        [1e-4, 1e-4, 1e-5, 64, 0.46884, 0.36772, 0.41217],\n",
    "                        [1e-4, 1e-4, 1e-6, 75, 0.46578, 0.37260, 0.41401],\n",
    "                        [1e-4, 1e-4, 1e-7, 24, 0.46324, 0.36765, 0.40995],\n",
    "                        [0., 1e-4, 1e-5, 37, 0.46248, 0.36882, 0.41037  ],\n",
    "                        [1e-4, 1e-5]])"
   ]
  },
  {
   "cell_type": "code",
   "execution_count": 1,
   "metadata": {},
   "outputs": [
    {
     "data": {
      "text/plain": [
       "0.0001"
      ]
     },
     "execution_count": 1,
     "metadata": {},
     "output_type": "execute_result"
    }
   ],
   "source": [
    "1e-4"
   ]
  },
  {
   "cell_type": "code",
   "execution_count": null,
   "metadata": {},
   "outputs": [],
   "source": []
  }
 ],
 "metadata": {
  "kernelspec": {
   "display_name": "Python 3",
   "language": "python",
   "name": "python3"
  },
  "language_info": {
   "codemirror_mode": {
    "name": "ipython",
    "version": 3
   },
   "file_extension": ".py",
   "mimetype": "text/x-python",
   "name": "python",
   "nbconvert_exporter": "python",
   "pygments_lexer": "ipython3",
   "version": "3.7.6"
  }
 },
 "nbformat": 4,
 "nbformat_minor": 4
}
