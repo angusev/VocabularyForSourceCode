{
 "cells": [
  {
   "cell_type": "code",
   "execution_count": 5,
   "metadata": {},
   "outputs": [],
   "source": [
    "import os\n",
    "import glob\n",
    "import re\n",
    "\n",
    "import pandas as pd\n",
    "\n",
    "\n",
    "MODELS_PATH = './models/java-small-model'\n",
    "results = []"
   ]
  },
  {
   "cell_type": "code",
   "execution_count": 25,
   "metadata": {},
   "outputs": [],
   "source": [
    "models = {\n",
    "        '2020_04_05__0.0001_0.0001_0.001__0026d470': 32,\n",
    "        '2020_04_05__0.0001_0.0001_0.001__2ecc05a5': 22,\n",
    "        '2020_04_05__0.0001_0.0001_0.001__e152caf0': 28,\n",
    "        '2020_04_05__0_0_-1__2167eb3d': 37,\n",
    "        '2020_04_05__0_0_-1__3cff1009': 19,\n",
    "        '2020_04_05__0_0_-1__4990422c': 19}"
   ]
  },
  {
   "cell_type": "code",
   "execution_count": 12,
   "metadata": {},
   "outputs": [],
   "source": [
    "models = {'2020_04_07__0_0_-2.0__subtoken_restricted': 24}"
   ]
  },
  {
   "cell_type": "code",
   "execution_count": 17,
   "metadata": {},
   "outputs": [],
   "source": [
    "models = ['2020_04_09__0_0_-3.0__subtoken_nodes_restricted']"
   ]
  },
  {
   "cell_type": "code",
   "execution_count": 2,
   "metadata": {},
   "outputs": [],
   "source": [
    "models = ['2020_04_05__0.0001_0.0001_0.001__e152caf0']"
   ]
  },
  {
   "cell_type": "code",
   "execution_count": 50,
   "metadata": {},
   "outputs": [],
   "source": [
    "coeff_select = ['2020_04_07__0.1_0_-1__b718b076',\n",
    "                '2020_04_07__0.01_0_-1__53cfd74e',\n",
    "                '2020_04_07__0.001_0_-1__0f88a7ef',\n",
    "                '2020_04_07__0.0001_0_-1__92371c27', \n",
    "                '2020_04_07__1e-05_0_-1__81cbb810',\n",
    "                '2020_04_07__1e-06_0_-1__3866b871',\n",
    "                '2020_04_07__0_0.1_-1__5810e829',\n",
    "                '2020_04_07__0_0.01_-1__b303bfa9',\n",
    "                '2020_04_07__0_0.001_-1__facca85d',\n",
    "                '2020_04_07__0_0.0001_-1__35a3d3de',\n",
    "                '2020_04_07__0_1e-05_-1__bfb47368',\n",
    "                '2020_04_07__0_1e-06_-1__be492856',\n",
    "                '2020_04_05__0_0_-1__2167eb3d']"
   ]
  },
  {
   "cell_type": "code",
   "execution_count": 23,
   "metadata": {},
   "outputs": [],
   "source": [
    "vocab_words = ['2020_04_11__0_0_-1__632771e7',\n",
    "               '2020_04_11__0_0_-1__fa0572aa',\n",
    "               '2020_04_11__0_0_-1__dc65356a',\n",
    "               '2020_04_05__0_0_-1__2167eb3d']"
   ]
  },
  {
   "cell_type": "code",
   "execution_count": 24,
   "metadata": {},
   "outputs": [],
   "source": [
    "models = vocab_words"
   ]
  },
  {
   "cell_type": "markdown",
   "metadata": {},
   "source": [
    "# Best epoch and validation"
   ]
  },
  {
   "cell_type": "code",
   "execution_count": 25,
   "metadata": {},
   "outputs": [],
   "source": [
    "non_decimal = re.compile(r'[^\\d.]+')\n",
    "\n",
    "results = []\n",
    "for model in models:\n",
    "    out_files = glob.glob(MODELS_PATH + '/' + model + \"/*.out\")\n",
    "    if out_files == []:\n",
    "        raise \"No .out files\"\n",
    "    train_out = out_files[0]\n",
    "    \n",
    "    with open(train_out) as f:\n",
    "        _, _, _, Lasso, GroupLasso, Threshold = list(filter(None, model.split('_')))[:6]\n",
    "        text = f.read().split()\n",
    "        \n",
    "        best_epoch = int(non_decimal.sub('', text[-7]))\n",
    "        val_prec, val_rec, val_F = map(lambda x: float(non_decimal.sub('', x)), [text[-5], text[-3], text[-1]])\n",
    "        \n",
    "        subtoken_words, nodes_words = map(lambda x: int(non_decimal.sub('', x)), [text[6], text[17]])\n",
    "        \n",
    "        results.append([model, subtoken_words, nodes_words, Lasso, GroupLasso, Threshold, \n",
    "                        best_epoch, val_prec, val_rec, val_F])"
   ]
  },
  {
   "cell_type": "code",
   "execution_count": 26,
   "metadata": {},
   "outputs": [],
   "source": [
    "results = pd.DataFrame(results, \n",
    "     columns=['folder', 'SUBTOKEN_words', 'NODES_words', \n",
    "              'Lasso', 'GroupLasso', 'Threshold', 'best_epoch', 'Val_Prec', 'Val_Rec', 'Val_F1'])"
   ]
  },
  {
   "cell_type": "code",
   "execution_count": 27,
   "metadata": {},
   "outputs": [
    {
     "data": {
      "text/html": [
       "<div>\n",
       "<style scoped>\n",
       "    .dataframe tbody tr th:only-of-type {\n",
       "        vertical-align: middle;\n",
       "    }\n",
       "\n",
       "    .dataframe tbody tr th {\n",
       "        vertical-align: top;\n",
       "    }\n",
       "\n",
       "    .dataframe thead th {\n",
       "        text-align: right;\n",
       "    }\n",
       "</style>\n",
       "<table border=\"1\" class=\"dataframe\">\n",
       "  <thead>\n",
       "    <tr style=\"text-align: right;\">\n",
       "      <th></th>\n",
       "      <th>folder</th>\n",
       "      <th>SUBTOKEN_words</th>\n",
       "      <th>NODES_words</th>\n",
       "      <th>Lasso</th>\n",
       "      <th>GroupLasso</th>\n",
       "      <th>Threshold</th>\n",
       "      <th>best_epoch</th>\n",
       "      <th>Val_Prec</th>\n",
       "      <th>Val_Rec</th>\n",
       "      <th>Val_F1</th>\n",
       "    </tr>\n",
       "  </thead>\n",
       "  <tbody>\n",
       "    <tr>\n",
       "      <th>0</th>\n",
       "      <td>2020_04_11__0_0_-1__632771e7</td>\n",
       "      <td>73906</td>\n",
       "      <td>12</td>\n",
       "      <td>0</td>\n",
       "      <td>0</td>\n",
       "      <td>-1</td>\n",
       "      <td>26</td>\n",
       "      <td>0.45540</td>\n",
       "      <td>0.34614</td>\n",
       "      <td>0.39332</td>\n",
       "    </tr>\n",
       "    <tr>\n",
       "      <th>1</th>\n",
       "      <td>2020_04_11__0_0_-1__fa0572aa</td>\n",
       "      <td>12</td>\n",
       "      <td>12</td>\n",
       "      <td>0</td>\n",
       "      <td>0</td>\n",
       "      <td>-1</td>\n",
       "      <td>3</td>\n",
       "      <td>0.18812</td>\n",
       "      <td>0.13437</td>\n",
       "      <td>0.15677</td>\n",
       "    </tr>\n",
       "    <tr>\n",
       "      <th>2</th>\n",
       "      <td>2020_04_11__0_0_-1__dc65356a</td>\n",
       "      <td>12</td>\n",
       "      <td>323</td>\n",
       "      <td>0</td>\n",
       "      <td>0</td>\n",
       "      <td>-1</td>\n",
       "      <td>2</td>\n",
       "      <td>0.20896</td>\n",
       "      <td>0.16248</td>\n",
       "      <td>0.18281</td>\n",
       "    </tr>\n",
       "    <tr>\n",
       "      <th>3</th>\n",
       "      <td>2020_04_05__0_0_-1__2167eb3d</td>\n",
       "      <td>73906</td>\n",
       "      <td>323</td>\n",
       "      <td>0</td>\n",
       "      <td>0</td>\n",
       "      <td>-1</td>\n",
       "      <td>37</td>\n",
       "      <td>0.47470</td>\n",
       "      <td>0.36856</td>\n",
       "      <td>0.41495</td>\n",
       "    </tr>\n",
       "  </tbody>\n",
       "</table>\n",
       "</div>"
      ],
      "text/plain": [
       "                         folder  SUBTOKEN_words  NODES_words Lasso GroupLasso  \\\n",
       "0  2020_04_11__0_0_-1__632771e7           73906           12     0          0   \n",
       "1  2020_04_11__0_0_-1__fa0572aa              12           12     0          0   \n",
       "2  2020_04_11__0_0_-1__dc65356a              12          323     0          0   \n",
       "3  2020_04_05__0_0_-1__2167eb3d           73906          323     0          0   \n",
       "\n",
       "  Threshold  best_epoch  Val_Prec  Val_Rec   Val_F1  \n",
       "0        -1          26   0.45540  0.34614  0.39332  \n",
       "1        -1           3   0.18812  0.13437  0.15677  \n",
       "2        -1           2   0.20896  0.16248  0.18281  \n",
       "3        -1          37   0.47470  0.36856  0.41495  "
      ]
     },
     "execution_count": 27,
     "metadata": {},
     "output_type": "execute_result"
    }
   ],
   "source": [
    "results"
   ]
  },
  {
   "cell_type": "markdown",
   "metadata": {},
   "source": [
    "# Release"
   ]
  },
  {
   "cell_type": "code",
   "execution_count": 12,
   "metadata": {},
   "outputs": [],
   "source": [
    "for index, row in results.iterrows():\n",
    "    folder = results.iloc[index]['folder']\n",
    "    epoch = results.iloc[index]['best_epoch']\n",
    "    command = f'python code2seq.py --load models/java-small-model/{folder}/model_iter{epoch} --release'\n",
    "    os.system(f'sbatch --error=./slurm/%j.err --output=./slurm/%j.out -J c2s_release --gres=gpu:1 -c 4 --wrap=\\\"{command}\\\"')"
   ]
  },
  {
   "cell_type": "markdown",
   "metadata": {},
   "source": [
    "# Test"
   ]
  },
  {
   "cell_type": "code",
   "execution_count": 13,
   "metadata": {},
   "outputs": [],
   "source": [
    "for index, row in results.iterrows():\n",
    "    folder = results.iloc[index]['folder']\n",
    "    epoch = results.iloc[index]['best_epoch']\n",
    "    command = f'python3 code2seq.py --load {MODELS_PATH}/{folder}/model_iter{epoch}.release --test data/java-small/java-small.test.c2s'\n",
    "    os.system(f'sbatch --error=./slurm/{folder}.err --output=./slurm/{folder}.out -J c2s_test --gres=gpu:1 -c 4 --wrap=\\\"{command}\\\"')\n"
   ]
  },
  {
   "cell_type": "markdown",
   "metadata": {},
   "source": [
    "# Get test results"
   ]
  },
  {
   "cell_type": "code",
   "execution_count": 28,
   "metadata": {},
   "outputs": [
    {
     "name": "stderr",
     "output_type": "stream",
     "text": [
      "/home/aagusev2/anaconda3/envs/tf_env/lib/python3.7/site-packages/ipykernel_launcher.py:19: SettingWithCopyWarning: \n",
      "A value is trying to be set on a copy of a slice from a DataFrame\n",
      "\n",
      "See the caveats in the documentation: https://pandas.pydata.org/pandas-docs/stable/user_guide/indexing.html#returning-a-view-versus-a-copy\n",
      "/home/aagusev2/anaconda3/envs/tf_env/lib/python3.7/site-packages/ipykernel_launcher.py:20: SettingWithCopyWarning: \n",
      "A value is trying to be set on a copy of a slice from a DataFrame\n",
      "\n",
      "See the caveats in the documentation: https://pandas.pydata.org/pandas-docs/stable/user_guide/indexing.html#returning-a-view-versus-a-copy\n",
      "/home/aagusev2/anaconda3/envs/tf_env/lib/python3.7/site-packages/ipykernel_launcher.py:21: SettingWithCopyWarning: \n",
      "A value is trying to be set on a copy of a slice from a DataFrame\n",
      "\n",
      "See the caveats in the documentation: https://pandas.pydata.org/pandas-docs/stable/user_guide/indexing.html#returning-a-view-versus-a-copy\n"
     ]
    }
   ],
   "source": [
    "import pandas as pd\n",
    "\n",
    "results['Test_Prec'] = None\n",
    "results['Test_Rec'] = None\n",
    "results['Test_F1'] = None\n",
    "\n",
    "for index, row in results.iterrows():\n",
    "    folder = results.iloc[index]['folder']\n",
    "    epoch = results.iloc[index]['best_epoch']\n",
    "    \n",
    "    with open(f'./slurm/{folder}.out') as f:\n",
    "        _, _, _, Lasso, GroupLasso, Threshold, _ = list(filter(None, folder.split('_')))\n",
    "        text = f.read().split()\n",
    "        prec_i = text.index('Precision:') + 1\n",
    "        rec_i = text.index('recall:') + 1   \n",
    "        f_i = text.index('F1:') + 1\n",
    "        \n",
    "        prec, rec, f = list(map(lambda a: float(a.rstrip(',')), [text[prec_i], text[rec_i], text[f_i]]))\n",
    "        results['Test_Prec'][index] = prec\n",
    "        results['Test_Rec'][index] = rec\n",
    "        results['Test_F1'][index] = f"
   ]
  },
  {
   "cell_type": "code",
   "execution_count": 29,
   "metadata": {},
   "outputs": [
    {
     "data": {
      "text/html": [
       "<div>\n",
       "<style scoped>\n",
       "    .dataframe tbody tr th:only-of-type {\n",
       "        vertical-align: middle;\n",
       "    }\n",
       "\n",
       "    .dataframe tbody tr th {\n",
       "        vertical-align: top;\n",
       "    }\n",
       "\n",
       "    .dataframe thead th {\n",
       "        text-align: right;\n",
       "    }\n",
       "</style>\n",
       "<table border=\"1\" class=\"dataframe\">\n",
       "  <thead>\n",
       "    <tr style=\"text-align: right;\">\n",
       "      <th></th>\n",
       "      <th>SUBTOKEN_words</th>\n",
       "      <th>NODES_words</th>\n",
       "      <th>best_epoch</th>\n",
       "      <th>Val_Prec</th>\n",
       "      <th>Val_Rec</th>\n",
       "      <th>Val_F1</th>\n",
       "      <th>Test_Prec</th>\n",
       "      <th>Test_Rec</th>\n",
       "      <th>Test_F1</th>\n",
       "    </tr>\n",
       "  </thead>\n",
       "  <tbody>\n",
       "    <tr>\n",
       "      <th>0</th>\n",
       "      <td>73906</td>\n",
       "      <td>12</td>\n",
       "      <td>26</td>\n",
       "      <td>0.45540</td>\n",
       "      <td>0.34614</td>\n",
       "      <td>0.39332</td>\n",
       "      <td>0.486531</td>\n",
       "      <td>0.368711</td>\n",
       "      <td>0.419506</td>\n",
       "    </tr>\n",
       "    <tr>\n",
       "      <th>1</th>\n",
       "      <td>12</td>\n",
       "      <td>12</td>\n",
       "      <td>3</td>\n",
       "      <td>0.18812</td>\n",
       "      <td>0.13437</td>\n",
       "      <td>0.15677</td>\n",
       "      <td>0.253408</td>\n",
       "      <td>0.184787</td>\n",
       "      <td>0.213724</td>\n",
       "    </tr>\n",
       "    <tr>\n",
       "      <th>2</th>\n",
       "      <td>12</td>\n",
       "      <td>323</td>\n",
       "      <td>2</td>\n",
       "      <td>0.20896</td>\n",
       "      <td>0.16248</td>\n",
       "      <td>0.18281</td>\n",
       "      <td>0.256083</td>\n",
       "      <td>0.185483</td>\n",
       "      <td>0.215139</td>\n",
       "    </tr>\n",
       "    <tr>\n",
       "      <th>3</th>\n",
       "      <td>73906</td>\n",
       "      <td>323</td>\n",
       "      <td>37</td>\n",
       "      <td>0.47470</td>\n",
       "      <td>0.36856</td>\n",
       "      <td>0.41495</td>\n",
       "      <td>0.489211</td>\n",
       "      <td>0.37998</td>\n",
       "      <td>0.427732</td>\n",
       "    </tr>\n",
       "  </tbody>\n",
       "</table>\n",
       "</div>"
      ],
      "text/plain": [
       "   SUBTOKEN_words  NODES_words  best_epoch  Val_Prec  Val_Rec   Val_F1  \\\n",
       "0           73906           12          26   0.45540  0.34614  0.39332   \n",
       "1              12           12           3   0.18812  0.13437  0.15677   \n",
       "2              12          323           2   0.20896  0.16248  0.18281   \n",
       "3           73906          323          37   0.47470  0.36856  0.41495   \n",
       "\n",
       "  Test_Prec  Test_Rec   Test_F1  \n",
       "0  0.486531  0.368711  0.419506  \n",
       "1  0.253408  0.184787  0.213724  \n",
       "2  0.256083  0.185483  0.215139  \n",
       "3  0.489211   0.37998  0.427732  "
      ]
     },
     "execution_count": 29,
     "metadata": {},
     "output_type": "execute_result"
    }
   ],
   "source": [
    "results[[ 'SUBTOKEN_words', 'NODES_words', 'best_epoch', 'Val_Prec', 'Val_Rec', 'Val_F1', 'Test_Prec',\n",
    "       'Test_Rec', 'Test_F1']]"
   ]
  },
  {
   "cell_type": "code",
   "execution_count": 16,
   "metadata": {},
   "outputs": [
    {
     "data": {
      "text/plain": [
       "Index(['folder', 'SUBTOKEN_words', 'NODES_words', 'Lasso', 'GroupLasso',\n",
       "       'Threshold', 'best_epoch', 'Val_Prec', 'Val_Rec', 'Val_F1', 'Test_Prec',\n",
       "       'Test_Rec', 'Test_F1'],\n",
       "      dtype='object')"
      ]
     },
     "execution_count": 16,
     "metadata": {},
     "output_type": "execute_result"
    }
   ],
   "source": [
    "results.columns"
   ]
  },
  {
   "cell_type": "code",
   "execution_count": 3,
   "metadata": {},
   "outputs": [],
   "source": [
    "def get_logs(job, epoch):\n",
    "    OUTPUT_FOLDER = './SLURM'\n",
    "    \n",
    "    \n",
    "    \n",
    "    with open(OUTPUT_FOLDER + f'{job}.out','r') as f:\n",
    "        line = f.readline()\n",
    "        while line != 'i'\n",
    "        \n",
    "    with open(OUTPUT_FOLDER + f'errors_{job}','r') as f:\n",
    "        errors_file = f.read()\n",
    "\n",
    "\n"
   ]
  },
  {
   "cell_type": "code",
   "execution_count": 6,
   "metadata": {},
   "outputs": [
    {
     "data": {
      "text/html": [
       "<div>\n",
       "<style scoped>\n",
       "    .dataframe tbody tr th:only-of-type {\n",
       "        vertical-align: middle;\n",
       "    }\n",
       "\n",
       "    .dataframe tbody tr th {\n",
       "        vertical-align: top;\n",
       "    }\n",
       "\n",
       "    .dataframe thead th {\n",
       "        text-align: right;\n",
       "    }\n",
       "</style>\n",
       "<table border=\"1\" class=\"dataframe\">\n",
       "  <thead>\n",
       "    <tr style=\"text-align: right;\">\n",
       "      <th></th>\n",
       "      <th>jobID</th>\n",
       "      <th>lasso</th>\n",
       "      <th>group_lasso</th>\n",
       "      <th>threshold</th>\n",
       "      <th>epochs</th>\n",
       "      <th>Precision</th>\n",
       "      <th>recall</th>\n",
       "      <th>F1</th>\n",
       "      <th>NODES_VOCAB nonzeros</th>\n",
       "      <th>SUBTOKEN_VOCAB nonzeros</th>\n",
       "      <th>Lasso Reg</th>\n",
       "      <th>Group Lasso Reg</th>\n",
       "    </tr>\n",
       "  </thead>\n",
       "  <tbody>\n",
       "    <tr>\n",
       "      <th>0</th>\n",
       "      <td>34508</td>\n",
       "      <td>0.0001</td>\n",
       "      <td>0.0001</td>\n",
       "      <td>1.000000e-03</td>\n",
       "      <td>24</td>\n",
       "      <td>0.47440</td>\n",
       "      <td>0.35912</td>\n",
       "      <td>0.40879</td>\n",
       "      <td>1236</td>\n",
       "      <td>30258</td>\n",
       "      <td>0.225216</td>\n",
       "      <td>0.065769</td>\n",
       "    </tr>\n",
       "    <tr>\n",
       "      <th>1</th>\n",
       "      <td>34510</td>\n",
       "      <td>0.0001</td>\n",
       "      <td>0.0001</td>\n",
       "      <td>1.000000e-05</td>\n",
       "      <td>64</td>\n",
       "      <td>0.46884</td>\n",
       "      <td>0.36772</td>\n",
       "      <td>0.41217</td>\n",
       "      <td>1486</td>\n",
       "      <td>74339</td>\n",
       "      <td>0.271612</td>\n",
       "      <td>0.061684</td>\n",
       "    </tr>\n",
       "    <tr>\n",
       "      <th>2</th>\n",
       "      <td>34511</td>\n",
       "      <td>0.0001</td>\n",
       "      <td>0.0001</td>\n",
       "      <td>1.000000e-06</td>\n",
       "      <td>75</td>\n",
       "      <td>0.46578</td>\n",
       "      <td>0.37260</td>\n",
       "      <td>0.41401</td>\n",
       "      <td>3986</td>\n",
       "      <td>148216</td>\n",
       "      <td>0.301428</td>\n",
       "      <td>0.062066</td>\n",
       "    </tr>\n",
       "    <tr>\n",
       "      <th>3</th>\n",
       "      <td>34512</td>\n",
       "      <td>0.0001</td>\n",
       "      <td>0.0001</td>\n",
       "      <td>1.000000e-07</td>\n",
       "      <td>24</td>\n",
       "      <td>0.46324</td>\n",
       "      <td>0.36765</td>\n",
       "      <td>0.40995</td>\n",
       "      <td>18028</td>\n",
       "      <td>6730523</td>\n",
       "      <td>0.408273</td>\n",
       "      <td>0.073424</td>\n",
       "    </tr>\n",
       "    <tr>\n",
       "      <th>4</th>\n",
       "      <td>34513</td>\n",
       "      <td>0.0000</td>\n",
       "      <td>0.0001</td>\n",
       "      <td>1.000000e-05</td>\n",
       "      <td>37</td>\n",
       "      <td>0.46248</td>\n",
       "      <td>0.36882</td>\n",
       "      <td>0.41037</td>\n",
       "      <td>40333</td>\n",
       "      <td>9413252</td>\n",
       "      <td>0.000000</td>\n",
       "      <td>4.115718</td>\n",
       "    </tr>\n",
       "    <tr>\n",
       "      <th>5</th>\n",
       "      <td>34514</td>\n",
       "      <td>0.0001</td>\n",
       "      <td>0.0000</td>\n",
       "      <td>1.000000e-05</td>\n",
       "      <td>60</td>\n",
       "      <td>0.47707</td>\n",
       "      <td>0.38251</td>\n",
       "      <td>0.42459</td>\n",
       "      <td>1434</td>\n",
       "      <td>73891</td>\n",
       "      <td>0.316947</td>\n",
       "      <td>0.000000</td>\n",
       "    </tr>\n",
       "  </tbody>\n",
       "</table>\n",
       "</div>"
      ],
      "text/plain": [
       "   jobID   lasso  group_lasso     threshold  epochs  Precision   recall  \\\n",
       "0  34508  0.0001       0.0001  1.000000e-03      24    0.47440  0.35912   \n",
       "1  34510  0.0001       0.0001  1.000000e-05      64    0.46884  0.36772   \n",
       "2  34511  0.0001       0.0001  1.000000e-06      75    0.46578  0.37260   \n",
       "3  34512  0.0001       0.0001  1.000000e-07      24    0.46324  0.36765   \n",
       "4  34513  0.0000       0.0001  1.000000e-05      37    0.46248  0.36882   \n",
       "5  34514  0.0001       0.0000  1.000000e-05      60    0.47707  0.38251   \n",
       "\n",
       "        F1  NODES_VOCAB nonzeros  SUBTOKEN_VOCAB nonzeros  Lasso Reg  \\\n",
       "0  0.40879                  1236                    30258   0.225216   \n",
       "1  0.41217                  1486                    74339   0.271612   \n",
       "2  0.41401                  3986                   148216   0.301428   \n",
       "3  0.40995                 18028                  6730523   0.408273   \n",
       "4  0.41037                 40333                  9413252   0.000000   \n",
       "5  0.42459                  1434                    73891   0.316947   \n",
       "\n",
       "   Group Lasso Reg  \n",
       "0         0.065769  \n",
       "1         0.061684  \n",
       "2         0.062066  \n",
       "3         0.073424  \n",
       "4         4.115718  \n",
       "5         0.000000  "
      ]
     },
     "execution_count": 6,
     "metadata": {},
     "output_type": "execute_result"
    }
   ],
   "source": [
    "results"
   ]
  },
  {
   "cell_type": "code",
   "execution_count": null,
   "metadata": {},
   "outputs": [],
   "source": [
    "python3 code2seq.py --load models/java-large-model/model_iter60.release --test data/java-small/java-small.test.c2s"
   ]
  }
 ],
 "metadata": {
  "kernelspec": {
   "display_name": "Python 3",
   "language": "python",
   "name": "python3"
  },
  "language_info": {
   "codemirror_mode": {
    "name": "ipython",
    "version": 3
   },
   "file_extension": ".py",
   "mimetype": "text/x-python",
   "name": "python",
   "nbconvert_exporter": "python",
   "pygments_lexer": "ipython3",
   "version": "3.7.6"
  }
 },
 "nbformat": 4,
 "nbformat_minor": 4
}
