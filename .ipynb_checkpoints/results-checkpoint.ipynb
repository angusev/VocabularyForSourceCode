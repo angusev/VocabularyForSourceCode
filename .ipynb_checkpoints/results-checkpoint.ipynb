{
 "cells": [
  {
   "cell_type": "code",
   "execution_count": null,
   "metadata": {},
   "outputs": [],
   "source": [
    "import pandas as pd\n",
    "\n",
    "results = pd.DataFrame([[34508, 1e-4, 1e-4, 1e-3, 24, 0.47440, 0.35912, 0.40879, 1236, 30258, 0.225215599, 0.065768525],\n",
    "                        [34510, 1e-4, 1e-4, 1e-5, 64, 0.46884, 0.36772, 0.41217, 1486, 74339, 0.271612436, 0.0616837405],\n",
    "                        [34511, 1e-4, 1e-4, 1e-6, 75, 0.46578, 0.37260, 0.41401, 3986, 148216, 0.30142808, 0.0620658249],\n",
    "                        [34512, 1e-4, 1e-4, 1e-7, 24, 0.46324, 0.36765, 0.40995, 18028, 6730523, 0.408272833, 0.0734235644],\n",
    "                        [34513, 0., 1e-4, 1e-5, 37, 0.46248, 0.36882, 0.41037, 40333, 9413252, 0, 4.11571836],\n",
    "                        [34514, 1e-4, 0., 1e-5, 60, 0.47707, 0.38251, 0.42459, 1434, 73891, 0.316947281, 0]])"
   ]
  },
  {
   "cell_type": "code",
   "execution_count": 2,
   "metadata": {},
   "outputs": [
    {
     "data": {
      "text/plain": [
       "0.0001"
      ]
     },
     "execution_count": 2,
     "metadata": {},
     "output_type": "execute_result"
    }
   ],
   "source": [
    "1e-4"
   ]
  },
  {
   "cell_type": "code",
   "execution_count": null,
   "metadata": {},
   "outputs": [],
   "source": []
  }
 ],
 "metadata": {
  "kernelspec": {
   "display_name": "Python 3",
   "language": "python",
   "name": "python3"
  },
  "language_info": {
   "codemirror_mode": {
    "name": "ipython",
    "version": 3
   },
   "file_extension": ".py",
   "mimetype": "text/x-python",
   "name": "python",
   "nbconvert_exporter": "python",
   "pygments_lexer": "ipython3",
   "version": "3.7.6"
  }
 },
 "nbformat": 4,
 "nbformat_minor": 4
}
